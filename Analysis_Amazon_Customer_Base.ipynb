{
 "cells": [
  {
   "cell_type": "code",
   "execution_count": 1,
   "id": "6b1ab4a0",
   "metadata": {},
   "outputs": [],
   "source": [
    "import pandas as pd"
   ]
  },
  {
   "cell_type": "code",
   "execution_count": 5,
   "id": "796fe187",
   "metadata": {},
   "outputs": [],
   "source": [
    "# Reading the data from both files\n",
    "data_1 = pd.read_csv(\"Amazon Customer Behavior Survey.csv\")\n",
    "data_2 = pd.read_csv(\"amazon.csv\")"
   ]
  },
  {
   "cell_type": "code",
   "execution_count": 6,
   "id": "ca04aeb2",
   "metadata": {},
   "outputs": [
    {
     "data": {
      "text/plain": [
       "(                        Timestamp  age             Gender  \\\n",
       " 0  2023/06/04 1:28:19 PM GMT+5:30   23             Female   \n",
       " 1  2023/06/04 2:30:44 PM GMT+5:30   23             Female   \n",
       " 2  2023/06/04 5:04:56 PM GMT+5:30   24  Prefer not to say   \n",
       " 3  2023/06/04 5:13:00 PM GMT+5:30   24             Female   \n",
       " 4  2023/06/04 5:28:06 PM GMT+5:30   22             Female   \n",
       " \n",
       "        Purchase_Frequency                                Purchase_Categories  \\\n",
       " 0       Few times a month                           Beauty and Personal Care   \n",
       " 1            Once a month                               Clothing and Fashion   \n",
       " 2       Few times a month    Groceries and Gourmet Food;Clothing and Fashion   \n",
       " 3            Once a month  Beauty and Personal Care;Clothing and Fashion;...   \n",
       " 4  Less than once a month      Beauty and Personal Care;Clothing and Fashion   \n",
       " \n",
       "   Personalized_Recommendation_Frequency Browsing_Frequency  \\\n",
       " 0                                   Yes   Few times a week   \n",
       " 1                                   Yes  Few times a month   \n",
       " 2                                    No  Few times a month   \n",
       " 3                             Sometimes  Few times a month   \n",
       " 4                                   Yes  Few times a month   \n",
       " \n",
       "   Product_Search_Method Search_Result_Exploration  \\\n",
       " 0               Keyword            Multiple pages   \n",
       " 1               Keyword            Multiple pages   \n",
       " 2               Keyword            Multiple pages   \n",
       " 3               Keyword                First page   \n",
       " 4                Filter            Multiple pages   \n",
       " \n",
       "    Customer_Reviews_Importance  ... Saveforlater_Frequency Review_Left  \\\n",
       " 0                            1  ...              Sometimes         Yes   \n",
       " 1                            1  ...                 Rarely          No   \n",
       " 2                            2  ...                 Rarely          No   \n",
       " 3                            5  ...              Sometimes         Yes   \n",
       " 4                            1  ...                 Rarely          No   \n",
       " \n",
       "   Review_Reliability Review_Helpfulness  \\\n",
       " 0       Occasionally                Yes   \n",
       " 1            Heavily                Yes   \n",
       " 2       Occasionally                 No   \n",
       " 3            Heavily                Yes   \n",
       " 4            Heavily                Yes   \n",
       " \n",
       "   Personalized_Recommendation_Frequency  Recommendation_Helpfulness  \\\n",
       " 0                                      2                        Yes   \n",
       " 1                                      2                  Sometimes   \n",
       " 2                                      4                         No   \n",
       " 3                                      3                  Sometimes   \n",
       " 4                                      4                        Yes   \n",
       " \n",
       "   Rating_Accuracy   Shopping_Satisfaction    Service_Appreciation  \\\n",
       " 0                1                      1      Competitive prices   \n",
       " 1                3                      2  Wide product selection   \n",
       " 2                3                      3      Competitive prices   \n",
       " 3                3                      4      Competitive prices   \n",
       " 4                2                      2      Competitive prices   \n",
       " \n",
       "               Improvement_Areas  \n",
       " 0      Reducing packaging waste  \n",
       " 1      Reducing packaging waste  \n",
       " 2  Product quality and accuracy  \n",
       " 3  Product quality and accuracy  \n",
       " 4  Product quality and accuracy  \n",
       " \n",
       " [5 rows x 23 columns],\n",
       "    product_id                                       product_name  \\\n",
       " 0  B07JW9H4J1  Wayona Nylon Braided USB to Lightning Fast Cha...   \n",
       " 1  B098NS6PVG  Ambrane Unbreakable 60W / 3A Fast Charging 1.5...   \n",
       " 2  B096MSW6CT  Sounce Fast Phone Charging Cable & Data Sync U...   \n",
       " 3  B08HDJ86NZ  boAt Deuce USB 300 2 in 1 Type-C & Micro USB S...   \n",
       " 4  B08CF3B7N1  Portronics Konnect L 1.2M Fast Charging 3A 8 P...   \n",
       " \n",
       "                                             category discounted_price  \\\n",
       " 0  Computers&Accessories|Accessories&Peripherals|...             ₹399   \n",
       " 1  Computers&Accessories|Accessories&Peripherals|...             ₹199   \n",
       " 2  Computers&Accessories|Accessories&Peripherals|...             ₹199   \n",
       " 3  Computers&Accessories|Accessories&Peripherals|...             ₹329   \n",
       " 4  Computers&Accessories|Accessories&Peripherals|...             ₹154   \n",
       " \n",
       "   actual_price discount_percentage rating rating_count  \\\n",
       " 0       ₹1,099                 64%    4.2       24,269   \n",
       " 1         ₹349                 43%    4.0       43,994   \n",
       " 2       ₹1,899                 90%    3.9        7,928   \n",
       " 3         ₹699                 53%    4.2       94,363   \n",
       " 4         ₹399                 61%    4.2       16,905   \n",
       " \n",
       "                                        about_product  \\\n",
       " 0  High Compatibility : Compatible With iPhone 12...   \n",
       " 1  Compatible with all Type C enabled devices, be...   \n",
       " 2  【 Fast Charger& Data Sync】-With built-in safet...   \n",
       " 3  The boAt Deuce USB 300 2 in 1 cable is compati...   \n",
       " 4  [CHARGE & SYNC FUNCTION]- This cable comes wit...   \n",
       " \n",
       "                                              user_id  \\\n",
       " 0  AG3D6O4STAQKAY2UVGEUV46KN35Q,AHMY5CWJMMK5BJRBB...   \n",
       " 1  AECPFYFQVRUWC3KGNLJIOREFP5LQ,AGYYVPDD7YG7FYNBX...   \n",
       " 2  AGU3BBQ2V2DDAMOAKGFAWDDQ6QHA,AESFLDV2PT363T2AQ...   \n",
       " 3  AEWAZDZZJLQUYVOVGBEUKSLXHQ5A,AG5HTSFRRE6NL3M5S...   \n",
       " 4  AE3Q6KSUK5P75D5HFYHCRAOLODSA,AFUGIFH5ZAFXRDSZH...   \n",
       " \n",
       "                                            user_name  \\\n",
       " 0  Manav,Adarsh gupta,Sundeep,S.Sayeed Ahmed,jasp...   \n",
       " 1  ArdKn,Nirbhay kumar,Sagar Viswanathan,Asp,Plac...   \n",
       " 2  Kunal,Himanshu,viswanath,sai niharka,saqib mal...   \n",
       " 3  Omkar dhale,JD,HEMALATHA,Ajwadh a.,amar singh ...   \n",
       " 4  rahuls6099,Swasat Borah,Ajay Wadke,Pranali,RVK...   \n",
       " \n",
       "                                            review_id  \\\n",
       " 0  R3HXWT0LRP0NMF,R2AJM3LFTLZHFO,R6AQJGUP6P86,R1K...   \n",
       " 1  RGIQEG07R9HS2,R1SMWZQ86XIN8U,R2J3Y1WL29GWDE,RY...   \n",
       " 2  R3J3EQQ9TZI5ZJ,R3E7WBGK7ID0KV,RWU79XKQ6I1QF,R2...   \n",
       " 3  R3EEUZKKK9J36I,R3HJVYCLYOY554,REDECAZ7AMPQC,R1...   \n",
       " 4  R1BP4L2HH9TFUP,R16PVJEXKV6QZS,R2UPDB81N66T4P,R...   \n",
       " \n",
       "                                         review_title  \\\n",
       " 0  Satisfied,Charging is really fast,Value for mo...   \n",
       " 1  A Good Braided Cable for Your Type C Device,Go...   \n",
       " 2  Good speed for earlier versions,Good Product,W...   \n",
       " 3  Good product,Good one,Nice,Really nice product...   \n",
       " 4  As good as original,Decent,Good one for second...   \n",
       " \n",
       "                                       review_content  \\\n",
       " 0  Looks durable Charging is fine tooNo complains...   \n",
       " 1  I ordered this cable to connect my phone to An...   \n",
       " 2  Not quite durable and sturdy,https://m.media-a...   \n",
       " 3  Good product,long wire,Charges good,Nice,I bou...   \n",
       " 4  Bought this instead of original apple, does th...   \n",
       " \n",
       "                                             img_link  \\\n",
       " 0  https://m.media-amazon.com/images/W/WEBP_40237...   \n",
       " 1  https://m.media-amazon.com/images/W/WEBP_40237...   \n",
       " 2  https://m.media-amazon.com/images/W/WEBP_40237...   \n",
       " 3  https://m.media-amazon.com/images/I/41V5FtEWPk...   \n",
       " 4  https://m.media-amazon.com/images/W/WEBP_40237...   \n",
       " \n",
       "                                         product_link  \n",
       " 0  https://www.amazon.in/Wayona-Braided-WN3LG1-Sy...  \n",
       " 1  https://www.amazon.in/Ambrane-Unbreakable-Char...  \n",
       " 2  https://www.amazon.in/Sounce-iPhone-Charging-C...  \n",
       " 3  https://www.amazon.in/Deuce-300-Resistant-Tang...  \n",
       " 4  https://www.amazon.in/Portronics-Konnect-POR-1...  )"
      ]
     },
     "execution_count": 6,
     "metadata": {},
     "output_type": "execute_result"
    }
   ],
   "source": [
    "# Displaying the first few rows of each dataset to understand their structure\n",
    "data_1_head = data_1.head()\n",
    "data_2_head = data_2.head()\n",
    "\n",
    "data_1_head, data_2_head"
   ]
  },
  {
   "cell_type": "code",
   "execution_count": 7,
   "id": "475093c7",
   "metadata": {},
   "outputs": [
    {
     "data": {
      "text/plain": [
       "(              age  Customer_Reviews_Importance  \\\n",
       " count  602.000000                   602.000000   \n",
       " mean    30.790698                     2.480066   \n",
       " std     10.193276                     1.185226   \n",
       " min      3.000000                     1.000000   \n",
       " 25%     23.000000                     1.000000   \n",
       " 50%     26.000000                     3.000000   \n",
       " 75%     36.000000                     3.000000   \n",
       " max     67.000000                     5.000000   \n",
       " \n",
       "        Personalized_Recommendation_Frequency   Rating_Accuracy   \\\n",
       " count                              602.000000        602.000000   \n",
       " mean                                 2.699336          2.672757   \n",
       " std                                  1.042028          0.899744   \n",
       " min                                  1.000000          1.000000   \n",
       " 25%                                  2.000000          2.000000   \n",
       " 50%                                  3.000000          3.000000   \n",
       " 75%                                  3.000000          3.000000   \n",
       " max                                  5.000000          5.000000   \n",
       " \n",
       "        Shopping_Satisfaction  \n",
       " count             602.000000  \n",
       " mean                2.463455  \n",
       " std                 1.012152  \n",
       " min                 1.000000  \n",
       " 25%                 2.000000  \n",
       " 50%                 2.000000  \n",
       " 75%                 3.000000  \n",
       " max                 5.000000  ,\n",
       " Female               352\n",
       " Male                 142\n",
       " Prefer not to say     89\n",
       " Others                19\n",
       " Name: Gender, dtype: int64,\n",
       " Few times a month         203\n",
       " Less than once a month    124\n",
       " Once a week               112\n",
       " Once a month              107\n",
       " Multiple times a week      56\n",
       " Name: Purchase_Frequency, dtype: int64,\n",
       " No           251\n",
       " Sometimes    229\n",
       " Yes          122\n",
       " Name: Personalized_Recommendation_Frequency, dtype: int64,\n",
       " Few times a week        249\n",
       " Few times a month       199\n",
       " Rarely                   77\n",
       " Multiple times a day     77\n",
       " Name: Browsing_Frequency, dtype: int64)"
      ]
     },
     "execution_count": 7,
     "metadata": {},
     "output_type": "execute_result"
    }
   ],
   "source": [
    "# Performing initial data analysis on the customer survey data (data_1)\n",
    "# Analyzing the distribution of various features like age, gender, purchase frequency, etc.\n",
    "\n",
    "# Summary statistics for numerical data\n",
    "numerical_summary = data_1.describe()\n",
    "\n",
    "# Frequency distribution of categorical data\n",
    "gender_distribution = data_1['Gender'].value_counts()\n",
    "purchase_freq_distribution = data_1['Purchase_Frequency'].value_counts()\n",
    "recommendation_freq_distribution = data_1['Personalized_Recommendation_Frequency'].value_counts()\n",
    "browsing_freq_distribution = data_1['Browsing_Frequency'].value_counts()\n",
    "\n",
    "numerical_summary, gender_distribution, purchase_freq_distribution, recommendation_freq_distribution, browsing_freq_distribution"
   ]
  },
  {
   "cell_type": "code",
   "execution_count": 8,
   "id": "0afe91df",
   "metadata": {},
   "outputs": [],
   "source": [
    "from sklearn.cluster import KMeans\n",
    "import matplotlib.pyplot as plt\n",
    "import seaborn as sns"
   ]
  },
  {
   "cell_type": "code",
   "execution_count": 9,
   "id": "7af2e40c",
   "metadata": {},
   "outputs": [],
   "source": [
    "# For the purpose of segmentation, we'll consider age and a few selected categorical features.\n",
    "# We'll first need to convert categorical data to numerical for clustering purposes.\n",
    "\n",
    "# Mapping categorical data to numerical\n",
    "data_1['Gender'] = data_1['Gender'].map({'Female': 0, 'Male': 1, 'Prefer not to say': 2, 'Others': 3})\n",
    "data_1['Purchase_Frequency'] = data_1['Purchase_Frequency'].map({\n",
    "    'Less than once a month': 0, \n",
    "    'Once a month': 1, \n",
    "    'Few times a month': 2, \n",
    "    'Once a week': 3, \n",
    "    'Multiple times a week': 4\n",
    "})\n",
    "data_1['Personalized_Recommendation_Frequency'] = data_1['Personalized_Recommendation_Frequency'].map({'No': 0, 'Sometimes': 1, 'Yes': 2})\n",
    "data_1['Browsing_Frequency'] = data_1['Browsing_Frequency'].map({\n",
    "    'Rarely': 0, \n",
    "    'Few times a month': 1, \n",
    "    'Few times a week': 2, \n",
    "    'Multiple times a day': 3\n",
    "})"
   ]
  },
  {
   "cell_type": "code",
   "execution_count": 10,
   "id": "c966388a",
   "metadata": {},
   "outputs": [],
   "source": [
    "# For customer segmentation, we'll focus on age, gender, purchase frequency, personalized recommendation frequency, and browsing frequency\n",
    "segmentation_features = ['age', 'Gender', 'Purchase_Frequency', 'Personalized_Recommendation_Frequency', 'Browsing_Frequency']\n",
    "segmentation_data = data_1[segmentation_features].dropna()"
   ]
  },
  {
   "cell_type": "code",
   "execution_count": 11,
   "id": "303b000c",
   "metadata": {},
   "outputs": [],
   "source": [
    "# Using KMeans for segmentation\n",
    "kmeans = KMeans(n_clusters=4, random_state=0)  # choosing 4 clusters arbitrarily\n",
    "segmentation_data['Cluster'] = kmeans.fit_predict(segmentation_data)"
   ]
  },
  {
   "cell_type": "code",
   "execution_count": 12,
   "id": "ecfb1401",
   "metadata": {},
   "outputs": [
    {
     "data": {
      "image/png": "[encoded data removed]",
      "text/plain": [
       "<Figure size 1000x600 with 1 Axes>"
      ]
     },
     "metadata": {},
     "output_type": "display_data"
    }
   ],
   "source": [
    "# Visualizing the segments\n",
    "plt.figure(figsize=(10, 6))\n",
    "sns.scatterplot(data=segmentation_data, x='age', y='Purchase_Frequency', hue='Cluster', palette='deep')\n",
    "plt.title('Customer Segments based on Age and Purchase Frequency')\n",
    "plt.xlabel('Age')\n",
    "plt.ylabel('Purchase Frequency')\n",
    "plt.show()"
   ]
  },
  {
   "cell_type": "code",
   "execution_count": 13,
   "id": "7328b0ac",
   "metadata": {},
   "outputs": [
    {
     "data": {
      "text/html": [
       "<div>\n",
       "<style scoped>\n",
       "    .dataframe tbody tr th:only-of-type {\n",
       "        vertical-align: middle;\n",
       "    }\n",
       "\n",
       "    .dataframe tbody tr th {\n",
       "        vertical-align: top;\n",
       "    }\n",
       "\n",
       "    .dataframe thead th {\n",
       "        text-align: right;\n",
       "    }\n",
       "</style>\n",
       "<table border=\"1\" class=\"dataframe\">\n",
       "  <thead>\n",
       "    <tr style=\"text-align: right;\">\n",
       "      <th></th>\n",
       "      <th>age</th>\n",
       "      <th>Gender</th>\n",
       "      <th>Purchase_Frequency</th>\n",
       "      <th>Personalized_Recommendation_Frequency</th>\n",
       "      <th>Browsing_Frequency</th>\n",
       "    </tr>\n",
       "  </thead>\n",
       "  <tbody>\n",
       "    <tr>\n",
       "      <th>0</th>\n",
       "      <td>44.532609</td>\n",
       "      <td>0.706522</td>\n",
       "      <td>1.956522</td>\n",
       "      <td>0.847826</td>\n",
       "      <td>1.586957</td>\n",
       "    </tr>\n",
       "    <tr>\n",
       "      <th>1</th>\n",
       "      <td>23.173780</td>\n",
       "      <td>0.548780</td>\n",
       "      <td>1.649390</td>\n",
       "      <td>0.756098</td>\n",
       "      <td>1.472561</td>\n",
       "    </tr>\n",
       "    <tr>\n",
       "      <th>2</th>\n",
       "      <td>33.843137</td>\n",
       "      <td>0.692810</td>\n",
       "      <td>1.921569</td>\n",
       "      <td>0.803922</td>\n",
       "      <td>1.633987</td>\n",
       "    </tr>\n",
       "    <tr>\n",
       "      <th>3</th>\n",
       "      <td>57.241379</td>\n",
       "      <td>0.896552</td>\n",
       "      <td>2.000000</td>\n",
       "      <td>0.827586</td>\n",
       "      <td>1.689655</td>\n",
       "    </tr>\n",
       "  </tbody>\n",
       "</table>\n",
       "</div>"
      ],
      "text/plain": [
       "         age    Gender  Purchase_Frequency  \\\n",
       "0  44.532609  0.706522            1.956522   \n",
       "1  23.173780  0.548780            1.649390   \n",
       "2  33.843137  0.692810            1.921569   \n",
       "3  57.241379  0.896552            2.000000   \n",
       "\n",
       "   Personalized_Recommendation_Frequency  Browsing_Frequency  \n",
       "0                               0.847826            1.586957  \n",
       "1                               0.756098            1.472561  \n",
       "2                               0.803922            1.633987  \n",
       "3                               0.827586            1.689655  "
      ]
     },
     "execution_count": 13,
     "metadata": {},
     "output_type": "execute_result"
    }
   ],
   "source": [
    "# Displaying the cluster centers to understand the average characteristics of each segment\n",
    "cluster_centers = kmeans.cluster_centers_\n",
    "cluster_centers_df = pd.DataFrame(cluster_centers, columns=segmentation_features)\n",
    "cluster_centers_df"
   ]
  },
  {
   "cell_type": "code",
   "execution_count": 15,
   "id": "96d17e18",
   "metadata": {},
   "outputs": [],
   "source": [
    "# Hypothetical assumptions for demonstration:\n",
    "# - Younger customers (age < 35) might be more inclined towards sustainability.\n",
    "# - Certain purchase categories like 'Beauty and Personal Care', 'Clothing and Fashion' \n",
    "#   might have a higher propensity for sustainable products.\n",
    "\n",
    "# Adding a hypothetical 'Sustainability Interest' column based on these assumptions\n",
    "data_1['Sustainability_Interest'] = data_1.apply(\n",
    "    lambda row: 'High' if row['age'] < 35 and \n",
    "    ('Beauty and Personal Care' in row['Purchase_Categories'] or 'Clothing and Fashion' in row['Purchase_Categories']) \n",
    "    else 'Low', axis=1)"
   ]
  },
  {
   "cell_type": "code",
   "execution_count": 16,
   "id": "33dbcaf8",
   "metadata": {},
   "outputs": [],
   "source": [
    "# Reapplying clustering to the dataset with the newly added 'Sustainability_Interest' feature\n",
    "segmentation_data = data_1[segmentation_features + ['Sustainability_Interest']]"
   ]
  },
  {
   "cell_type": "code",
   "execution_count": 17,
   "id": "fbf229ee",
   "metadata": {},
   "outputs": [
    {
     "name": "stderr",
     "output_type": "stream",
     "text": [
      "C:\\Users\\goekc\\AppData\\Local\\Temp\\ipykernel_28444\\1020030682.py:2: SettingWithCopyWarning: \n",
      "A value is trying to be set on a copy of a slice from a DataFrame.\n",
      "Try using .loc[row_indexer,col_indexer] = value instead\n",
      "\n",
      "See the caveats in the documentation: https://pandas.pydata.org/pandas-docs/stable/user_guide/indexing.html#returning-a-view-versus-a-copy\n",
      "  segmentation_data['Sustainability_Interest'] = segmentation_data['Sustainability_Interest'].map({'Low': 0, 'High': 1})\n"
     ]
    }
   ],
   "source": [
    "# Convert 'Sustainability_Interest' to numerical for clustering\n",
    "segmentation_data['Sustainability_Interest'] = segmentation_data['Sustainability_Interest'].map({'Low': 0, 'High': 1})"
   ]
  },
  {
   "cell_type": "code",
   "execution_count": 18,
   "id": "85687a05",
   "metadata": {},
   "outputs": [
    {
     "name": "stderr",
     "output_type": "stream",
     "text": [
      "C:\\Users\\goekc\\AppData\\Local\\Temp\\ipykernel_28444\\528226403.py:3: SettingWithCopyWarning: \n",
      "A value is trying to be set on a copy of a slice from a DataFrame.\n",
      "Try using .loc[row_indexer,col_indexer] = value instead\n",
      "\n",
      "See the caveats in the documentation: https://pandas.pydata.org/pandas-docs/stable/user_guide/indexing.html#returning-a-view-versus-a-copy\n",
      "  segmentation_data['Cluster'] = kmeans.fit_predict(segmentation_data[segmentation_features])\n"
     ]
    }
   ],
   "source": [
    "# Reapplying KMeans clustering\n",
    "kmeans = KMeans(n_clusters=4, random_state=0)\n",
    "segmentation_data['Cluster'] = kmeans.fit_predict(segmentation_data[segmentation_features])"
   ]
  },
  {
   "cell_type": "code",
   "execution_count": 19,
   "id": "5003c2c6",
   "metadata": {},
   "outputs": [
    {
     "data": {
      "text/html": [
       "<div>\n",
       "<style scoped>\n",
       "    .dataframe tbody tr th:only-of-type {\n",
       "        vertical-align: middle;\n",
       "    }\n",
       "\n",
       "    .dataframe tbody tr th {\n",
       "        vertical-align: top;\n",
       "    }\n",
       "\n",
       "    .dataframe thead th {\n",
       "        text-align: right;\n",
       "    }\n",
       "</style>\n",
       "<table border=\"1\" class=\"dataframe\">\n",
       "  <thead>\n",
       "    <tr style=\"text-align: right;\">\n",
       "      <th>Sustainability_Interest</th>\n",
       "      <th>0</th>\n",
       "      <th>1</th>\n",
       "    </tr>\n",
       "    <tr>\n",
       "      <th>Cluster</th>\n",
       "      <th></th>\n",
       "      <th></th>\n",
       "    </tr>\n",
       "  </thead>\n",
       "  <tbody>\n",
       "    <tr>\n",
       "      <th>0</th>\n",
       "      <td>92.0</td>\n",
       "      <td>NaN</td>\n",
       "    </tr>\n",
       "    <tr>\n",
       "      <th>1</th>\n",
       "      <td>48.0</td>\n",
       "      <td>280.0</td>\n",
       "    </tr>\n",
       "    <tr>\n",
       "      <th>2</th>\n",
       "      <td>70.0</td>\n",
       "      <td>83.0</td>\n",
       "    </tr>\n",
       "    <tr>\n",
       "      <th>3</th>\n",
       "      <td>29.0</td>\n",
       "      <td>NaN</td>\n",
       "    </tr>\n",
       "  </tbody>\n",
       "</table>\n",
       "</div>"
      ],
      "text/plain": [
       "Sustainability_Interest     0      1\n",
       "Cluster                             \n",
       "0                        92.0    NaN\n",
       "1                        48.0  280.0\n",
       "2                        70.0   83.0\n",
       "3                        29.0    NaN"
      ]
     },
     "execution_count": 19,
     "metadata": {},
     "output_type": "execute_result"
    }
   ],
   "source": [
    "# Now, analyzing the distribution of sustainability interest across the new customer segments\n",
    "sustainability_interest_by_segment = segmentation_data.groupby('Cluster')['Sustainability_Interest'].value_counts().unstack()\n",
    "\n",
    "# Displaying the distribution\n",
    "sustainability_interest_by_segment"
   ]
  },
  {
   "cell_type": "code",
   "execution_count": 20,
   "id": "317074fa",
   "metadata": {},
   "outputs": [],
   "source": [
    "# Ensure review content is string for sentiment analysis\n",
    "data_2['review_content'] = data_2['review_content'].astype(str)"
   ]
  },
  {
   "cell_type": "code",
   "execution_count": 22,
   "id": "27d66640",
   "metadata": {},
   "outputs": [],
   "source": [
    "from textblob import TextBlob"
   ]
  },
  {
   "cell_type": "code",
   "execution_count": 23,
   "id": "83b9f03e",
   "metadata": {},
   "outputs": [],
   "source": [
    "# Perform sentiment analysis on the sales data\n",
    "data_2['Polarity'] = data_2['review_content'].apply(lambda x: TextBlob(x).sentiment.polarity)"
   ]
  },
  {
   "cell_type": "code",
   "execution_count": 26,
   "id": "0c812175",
   "metadata": {},
   "outputs": [
    {
     "data": {
      "image/png": "[encoded data removed]",
      "text/plain": [
       "<Figure size 1000x600 with 1 Axes>"
      ]
     },
     "metadata": {},
     "output_type": "display_data"
    }
   ],
   "source": [
    "# Histogram of sentiment polarity distribution\n",
    "plt.figure(figsize=(10, 6))\n",
    "plt.hist(data_2['Polarity'], bins=20, color='skyblue', edgecolor='black')\n",
    "plt.title('Distribution of Sentiment Polarity')\n",
    "plt.xlabel('Sentiment Polarity')\n",
    "plt.ylabel('Frequency')\n",
    "plt.grid(True)\n",
    "plt.savefig('sentiment_polarity_distribution_corrected.png')\n",
    "plt.show()\n",
    "plt.close()"
   ]
  }
 ],
 "metadata": {
  "kernelspec": {
   "display_name": "Python 3 (ipykernel)",
   "language": "python",
   "name": "python3"
  },
  "language_info": {
   "codemirror_mode": {
    "name": "ipython",
    "version": 3
   },
   "file_extension": ".py",
   "mimetype": "text/x-python",
   "name": "python",
   "nbconvert_exporter": "python",
   "pygments_lexer": "ipython3",
   "version": "3.9.13"
  }
 },
 "nbformat": 4,
 "nbformat_minor": 5
}
